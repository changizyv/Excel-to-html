import os
import requests
from urllib.parse import urljoin
from bs4 import BeautifulSoup
from google.colab import drive
import gc
import os

drive.mount('/content/drive')


# Function to download a file from a URL
def download_file(url, save_path):
    # Ensure the directory exists
    os.makedirs(os.path.dirname(save_path), exist_ok=True)
    response = requests.get(url)
    with open(save_path, 'wb') as file:
        file.write(response.content)

# Function to download all assets from a webpage
def download_webpage_assets(url, output_dir):
    # Get the HTML content of the webpage
    response = requests.get(url)
    soup = BeautifulSoup(response.text, 'html.parser')

    # Function to correct and complete the URLs
    def complete_url(src_url):
        return urljoin(url, src_url)

    # Function to create save path from URL
    def create_save_path(src_url):
        # Remove the query parameters and fragment identifiers
        src_url = src_url.split('?')[0].split('#')[0]
        # Join the output directory with the path obtained from the URL
        return os.path.join(output_dir, *src_url.split('/')[3:])

    # Download all images
    for img in soup.find_all('img'):
        img_url = complete_url(img.get('src'))
        save_path = create_save_path(img_url)
        download_file(img_url, save_path)

    # Download all CSS files
    for css in soup.find_all('link', {'rel': 'stylesheet'}):
        css_url = complete_url(css.get('href'))
        save_path = create_save_path(css_url)
        download_file(css_url, save_path)

    # Download all JavaScript files
    for script in soup.find_all('script', {'src': True}):
        js_url = complete_url(script.get('src'))
        save_path = create_save_path(js_url)
        download_file(js_url, save_path)

# Example usage
webpage_url = "https://demo.web3canvas.com/themeforest/medenin/error.html"
output_directory = '/content/drive/MyDrive/output' 
# Call the function to download all assets
download_webpage_assets(webpage_url, output_directory)

# Print a success message
print(f"  All files from {webpage_url} in {output_directory} downloaded.")
