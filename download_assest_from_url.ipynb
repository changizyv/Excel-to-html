{
  "nbformat": 4,
  "nbformat_minor": 0,
  "metadata": {
    "colab": {
      "provenance": [],
      "authorship_tag": "ABX9TyONY5evXltQwJfs1qPrRiSV",
      "include_colab_link": true
    },
    "kernelspec": {
      "name": "python3",
      "display_name": "Python 3"
    },
    "language_info": {
      "name": "python"
    }
  },
  "cells": [
    {
      "cell_type": "markdown",
      "metadata": {
        "id": "view-in-github",
        "colab_type": "text"
      },
      "source": [
        "<a href=\"https://colab.research.google.com/github/changizyv/Excel-to-html/blob/main/download_assest_from_url.ipynb\" target=\"_parent\"><img src=\"https://colab.research.google.com/assets/colab-badge.svg\" alt=\"Open In Colab\"/></a>"
      ]
    },
    {
      "cell_type": "code",
      "execution_count": 19,
      "metadata": {
        "colab": {
          "base_uri": "https://localhost:8080/"
        },
        "id": "547CDUZjw2e7",
        "outputId": "a6d34a95-1b9c-4219-c4fb-52d065ef5342"
      },
      "outputs": [
        {
          "output_type": "stream",
          "name": "stdout",
          "text": [
            "Drive already mounted at /content/drive; to attempt to forcibly remount, call drive.mount(\"/content/drive\", force_remount=True).\n",
            "تمام فایل‌های مورد نیاز از https://demo.web3canvas.com/themeforest/medenin/error.html به /content/drive/MyDrive/output دانلود شدند.\n"
          ]
        }
      ],
      "source": [
        "import os\n",
        "import requests\n",
        "from urllib.parse import urljoin\n",
        "from bs4 import BeautifulSoup\n",
        "from google.colab import drive\n",
        "import gc\n",
        "import os\n",
        "\n",
        "drive.mount('/content/drive')\n",
        "\n",
        "\n",
        "# Function to download a file from a URL\n",
        "def download_file(url, save_path):\n",
        "    # Ensure the directory exists\n",
        "    os.makedirs(os.path.dirname(save_path), exist_ok=True)\n",
        "    response = requests.get(url)\n",
        "    with open(save_path, 'wb') as file:\n",
        "        file.write(response.content)\n",
        "\n",
        "# Function to download all assets from a webpage\n",
        "def download_webpage_assets(url, output_dir):\n",
        "    # Get the HTML content of the webpage\n",
        "    response = requests.get(url)\n",
        "    soup = BeautifulSoup(response.text, 'html.parser')\n",
        "\n",
        "    # Function to correct and complete the URLs\n",
        "    def complete_url(src_url):\n",
        "        return urljoin(url, src_url)\n",
        "\n",
        "    # Function to create save path from URL\n",
        "    def create_save_path(src_url):\n",
        "        # Remove the query parameters and fragment identifiers\n",
        "        src_url = src_url.split('?')[0].split('#')[0]\n",
        "        # Join the output directory with the path obtained from the URL\n",
        "        return os.path.join(output_dir, *src_url.split('/')[3:])\n",
        "\n",
        "    # Download all images\n",
        "    for img in soup.find_all('img'):\n",
        "        img_url = complete_url(img.get('src'))\n",
        "        save_path = create_save_path(img_url)\n",
        "        download_file(img_url, save_path)\n",
        "\n",
        "    # Download all CSS files\n",
        "    for css in soup.find_all('link', {'rel': 'stylesheet'}):\n",
        "        css_url = complete_url(css.get('href'))\n",
        "        save_path = create_save_path(css_url)\n",
        "        download_file(css_url, save_path)\n",
        "\n",
        "    # Download all JavaScript files\n",
        "    for script in soup.find_all('script', {'src': True}):\n",
        "        js_url = complete_url(script.get('src'))\n",
        "        save_path = create_save_path(js_url)\n",
        "        download_file(js_url, save_path)\n",
        "\n",
        "# Example usage\n",
        "webpage_url = \"https://demo.web3canvas.com/themeforest/medenin/error.html\"  # URL صفحه وب\n",
        "output_directory = '/content/drive/MyDrive/output'  # مسیر ذخیره سازی\n",
        "\n",
        "# Call the function to download all assets\n",
        "download_webpage_assets(webpage_url, output_directory)\n",
        "\n",
        "# Print a success message\n",
        "print(f\"تمام فایل‌های مورد نیاز از {webpage_url} به {output_directory} دانلود شدند.\")\n"
      ]
    }
  ]
}